{
  "cells": [
    {
      "cell_type": "markdown",
      "metadata": {},
      "source": [
        "--- \n",
        "execute:\n",
        "  echo: true\n",
        "  eval: false\n",
        "  python: \"/media/oli/Research/env_python/spy/bin/python\"\n",
        "---\n",
        "\n",
        "\n",
        "\n",
        "# Introduction\n",
        "\n",
        "Recently, NEURON simulator has python interface, with excellent [beginners tutorials](https://nrn.readthedocs.io/en/8.2.6/tutorials/index.html).\n",
        "\n",
        "# [**Ball and stick 1: Basic cell**](https://nrn.readthedocs.io/en/8.2.6/tutorials/ball-and-stick-1.html)\n",
        "\n",
        "Load the necessary modules"
      ],
      "id": "0e4ca9b0"
    },
    {
      "cell_type": "code",
      "metadata": {},
      "source": [
        "from neuron import h\n",
        "from neuron.units import ms, mV, µm \n",
        "\n",
        "import matplotlib.pyplot as plt   # For plotting using matplotlib\n",
        "\n",
        "  \n",
        "h.load_file(\"stdrun.hoc\") #load the standard run library to give us high-level simulation control functions (e.g. running a simulation for a given period of time):"
      ],
      "id": "530a013f",
      "execution_count": null,
      "outputs": []
    },
    {
      "cell_type": "markdown",
      "metadata": {},
      "source": [
        "Define one cell with soma and dendrite (with necessary parameters, morphology) using python class"
      ],
      "id": "b4226ee8"
    },
    {
      "cell_type": "code",
      "metadata": {},
      "source": [
        "class BallAndStick:\n",
        "    def __init__(self, gid):\n",
        "        self._gid = gid\n",
        "        self._setup_morphology()\n",
        "        self._setup_biophysics()\n",
        "\n",
        "    def _setup_morphology(self):\n",
        "        self.soma = h.Section(name=\"soma\", cell=self)\n",
        "        self.dend = h.Section(name=\"dend\", cell=self)\n",
        "        self.dend.connect(self.soma)\n",
        "        self.all = self.soma.wholetree()\n",
        "        self.soma.L = self.soma.diam = 12.6157 * µm\n",
        "        self.dend.L = 200 * µm\n",
        "        self.dend.diam = 1 * µm\n",
        "\n",
        "    def _setup_biophysics(self):\n",
        "        for sec in self.all:\n",
        "            sec.Ra = 100  # Axial resistance in Ohm * cm\n",
        "            sec.cm = 1  # Membrane capacitance in micro Farads / cm^2\n",
        "        self.soma.insert(\"hh\")\n",
        "        for seg in self.soma:\n",
        "            seg.hh.gnabar = 0.12  # Sodium conductance in S/cm2\n",
        "            seg.hh.gkbar = 0.036  # Potassium conductance in S/cm2\n",
        "            seg.hh.gl = 0.0003  # Leak conductance in S/cm2\n",
        "            seg.hh.el = -54.3 * mV  # Reversal potential \n",
        "        self.dend.insert(\"pas\")  # # Insert passive current in the dendrite  \n",
        "        for seg in self.dend:   \n",
        "            seg.pas.g = 0.001  # Passive conductance in S/cm2        \n",
        "            seg.pas.e = -65 * mV  # Leak reversal potential             \n",
        "\n",
        "    def __repr__(self):\n",
        "        return \"BallAndStick[{}]\".format(self._gid)\n",
        "\n",
        "\n",
        "my_cell = BallAndStick(0)"
      ],
      "id": "89d316e9",
      "execution_count": null,
      "outputs": []
    },
    {
      "cell_type": "code",
      "metadata": {},
      "source": [
        "# Make sure soma is hh and dendtrite is passive membrane\n",
        "for sec in h.allsec():\n",
        "    print(\"%s: %s\" % (sec, \", \".join(sec.psection()[\"density_mechs\"].keys())))\n"
      ],
      "id": "d67cdd48",
      "execution_count": null,
      "outputs": []
    },
    {
      "cell_type": "markdown",
      "metadata": {},
      "source": [
        "#### Stimulus"
      ],
      "id": "b069f9c3"
    },
    {
      "cell_type": "code",
      "metadata": {},
      "source": [
        "stim = h.IClamp(my_cell.dend(1))  # at the origin of the dentrite\n",
        "stim.delay = 5 #ms\n",
        "stim.dur = 1 #ms\n",
        "stim.amp = 0.1  # nA"
      ],
      "id": "a1f3d120",
      "execution_count": null,
      "outputs": []
    },
    {
      "cell_type": "markdown",
      "metadata": {},
      "source": [
        "#### Recording soma voltage"
      ],
      "id": "dd655d16"
    },
    {
      "cell_type": "code",
      "metadata": {},
      "source": [
        "soma_v = h.Vector().record(my_cell.soma(0.5)._ref_v)\n",
        "t = h.Vector().record(h._ref_t)"
      ],
      "id": "f0783ea5",
      "execution_count": null,
      "outputs": []
    },
    {
      "cell_type": "markdown",
      "metadata": {},
      "source": [
        "#### Initialization"
      ],
      "id": "f2e7ecc4"
    },
    {
      "cell_type": "code",
      "metadata": {},
      "source": [
        "h.finitialize(-65 * mV) # initialize membrane potential \n",
        "\n",
        "h.continuerun(25 * ms) # run until time 25 ms:\n"
      ],
      "id": "e7928587",
      "execution_count": null,
      "outputs": []
    },
    {
      "cell_type": "code",
      "metadata": {},
      "source": [
        "plt.figure()\n",
        "plt.plot(t, soma_v)\n",
        "plt.xlabel(\"t (ms)\")\n",
        "plt.ylabel(\"v (mV)\")\n",
        "plt.show()"
      ],
      "id": "6b63cac6",
      "execution_count": null,
      "outputs": []
    }
  ],
  "metadata": {
    "kernelspec": {
      "name": "python3",
      "language": "python",
      "display_name": "Python 3 (ipykernel)",
      "path": "/media/oli/Research/env_python/spy/share/jupyter/kernels/python3"
    }
  },
  "nbformat": 4,
  "nbformat_minor": 5
}