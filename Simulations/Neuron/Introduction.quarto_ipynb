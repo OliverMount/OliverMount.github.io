{
  "cells": [
    {
      "cell_type": "markdown",
      "metadata": {},
      "source": [
        "# Introduction\n",
        "\n",
        "Recently, NEURON simulator has python interface, with excellent [beginners tutorials](https://nrn.readthedocs.io/en/8.2.6/tutorials/index.html).\n",
        "\n",
        "# [**Ball and stick 1: Basic cell**](https://nrn.readthedocs.io/en/8.2.6/tutorials/ball-and-stick-1.html)\n",
        "\n",
        "Load the necessary modules\n"
      ],
<<<<<<< HEAD
      "id": "d96d0e67"
=======
      "id": "1bc07925"
>>>>>>> 1df55c04ab661655d4e745b87d264ffe42d6adf9
    },
    {
      "cell_type": "code",
      "metadata": {},
      "source": [
        "from neuron import h\n",
        "from neuron.units import ms, mV, µm \n",
        "\n",
        "import matplotlib.pyplot as plt   # For plotting using matplotlib\n",
        "\n",
        "  \n",
        "h.load_file(\"stdrun.hoc\") #load the standard run library to give us high-level simulation control functions (e.g. running a simulation for a given period of time):"
      ],
<<<<<<< HEAD
      "id": "6e9a8f45",
=======
      "id": "84f367a5",
>>>>>>> 1df55c04ab661655d4e745b87d264ffe42d6adf9
      "execution_count": null,
      "outputs": []
    },
    {
      "cell_type": "markdown",
      "metadata": {},
      "source": [
        "Define one cell with soma and dendrite (with necessary parameters, morphology) using python class\n"
      ],
<<<<<<< HEAD
      "id": "44f8e3ab"
=======
      "id": "e1e77362"
>>>>>>> 1df55c04ab661655d4e745b87d264ffe42d6adf9
    },
    {
      "cell_type": "code",
      "metadata": {},
      "source": [
        "class BallAndStick:\n",
        "    def __init__(self, gid):\n",
        "        self._gid = gid\n",
        "        self._setup_morphology()\n",
        "        self._setup_biophysics()\n",
        "\n",
        "    def _setup_morphology(self):\n",
        "        self.soma = h.Section(name=\"soma\", cell=self)\n",
        "        self.dend = h.Section(name=\"dend\", cell=self)\n",
        "        self.dend.connect(self.soma)\n",
        "        self.all = self.soma.wholetree()\n",
        "        self.soma.L = self.soma.diam = 12.6157 * µm\n",
        "        self.dend.L = 200 * µm\n",
        "        self.dend.diam = 1 * µm\n",
        "\n",
        "    def _setup_biophysics(self):\n",
        "        for sec in self.all:\n",
        "            sec.Ra = 100  # Axial resistance in Ohm * cm\n",
        "            sec.cm = 1  # Membrane capacitance in micro Farads / cm^2\n",
        "        self.soma.insert(\"hh\")\n",
        "        for seg in self.soma:\n",
        "            seg.hh.gnabar = 0.12  # Sodium conductance in S/cm2\n",
        "            seg.hh.gkbar = 0.036  # Potassium conductance in S/cm2\n",
        "            seg.hh.gl = 0.0003  # Leak conductance in S/cm2\n",
        "            seg.hh.el = -54.3 * mV  # Reversal potential \n",
        "        self.dend.insert(\"pas\")  # # Insert passive current in the dendrite  \n",
        "        for seg in self.dend:   \n",
        "            seg.pas.g = 0.001  # Passive conductance in S/cm2        \n",
        "            seg.pas.e = -65 * mV  # Leak reversal potential             \n",
        "\n",
        "    def __repr__(self):\n",
        "        return \"BallAndStick[{}]\".format(self._gid)\n",
        "\n",
        "\n",
        "my_cell = BallAndStick(0)"
      ],
<<<<<<< HEAD
      "id": "58dc32fd",
=======
      "id": "5c7a2876",
>>>>>>> 1df55c04ab661655d4e745b87d264ffe42d6adf9
      "execution_count": null,
      "outputs": []
    },
    {
      "cell_type": "code",
      "metadata": {},
      "source": [
        "# Make sure soma is hh and dendtrite is passive membrane\n",
        "for sec in h.allsec():\n",
        "    print(\"%s: %s\" % (sec, \", \".join(sec.psection()[\"density_mechs\"].keys())))\n"
      ],
<<<<<<< HEAD
      "id": "61d01aee",
=======
      "id": "359bc6fd",
>>>>>>> 1df55c04ab661655d4e745b87d264ffe42d6adf9
      "execution_count": null,
      "outputs": []
    },
    {
      "cell_type": "markdown",
      "metadata": {},
      "source": [
        "#### Stimulus\n"
      ],
<<<<<<< HEAD
      "id": "c87a9844"
=======
      "id": "6f7ffb05"
>>>>>>> 1df55c04ab661655d4e745b87d264ffe42d6adf9
    },
    {
      "cell_type": "code",
      "metadata": {},
      "source": [
        "stim = h.IClamp(my_cell.dend(1))  # at the origin of the dentrite\n",
        "stim.delay = 5 #ms\n",
        "stim.dur = 1 #ms\n",
        "stim.amp = 0.1  # nA"
      ],
<<<<<<< HEAD
      "id": "66685b84",
=======
      "id": "590616bd",
>>>>>>> 1df55c04ab661655d4e745b87d264ffe42d6adf9
      "execution_count": null,
      "outputs": []
    },
    {
      "cell_type": "markdown",
      "metadata": {},
      "source": [
        "#### Recording soma voltage\n"
      ],
<<<<<<< HEAD
      "id": "b341c7a1"
=======
      "id": "93e3ff0a"
>>>>>>> 1df55c04ab661655d4e745b87d264ffe42d6adf9
    },
    {
      "cell_type": "code",
      "metadata": {},
      "source": [
        "soma_v = h.Vector().record(my_cell.soma(0.5)._ref_v)\n",
        "t = h.Vector().record(h._ref_t)"
      ],
<<<<<<< HEAD
      "id": "27cc76e8",
=======
      "id": "aef196ae",
>>>>>>> 1df55c04ab661655d4e745b87d264ffe42d6adf9
      "execution_count": null,
      "outputs": []
    },
    {
      "cell_type": "markdown",
      "metadata": {},
      "source": [
        "#### Initialization\n"
      ],
<<<<<<< HEAD
      "id": "d448e7fd"
=======
      "id": "ad00ec1b"
>>>>>>> 1df55c04ab661655d4e745b87d264ffe42d6adf9
    },
    {
      "cell_type": "code",
      "metadata": {},
      "source": [
        "h.finitialize(-65 * mV) # initialize membrane potential \n",
        "\n",
        "h.continuerun(25 * ms) # run until time 25 ms:\n"
      ],
<<<<<<< HEAD
      "id": "2498264f",
=======
      "id": "80031c25",
>>>>>>> 1df55c04ab661655d4e745b87d264ffe42d6adf9
      "execution_count": null,
      "outputs": []
    },
    {
      "cell_type": "code",
      "metadata": {},
      "source": [
        "plt.figure()\n",
        "plt.plot(t, soma_v)\n",
        "plt.xlabel(\"t (ms)\")\n",
        "plt.ylabel(\"v (mV)\")\n",
        "plt.show()"
      ],
<<<<<<< HEAD
      "id": "bff94759",
=======
      "id": "aed9bef2",
>>>>>>> 1df55c04ab661655d4e745b87d264ffe42d6adf9
      "execution_count": null,
      "outputs": []
    }
  ],
  "metadata": {
    "kernelspec": {
      "name": "python3",
      "language": "python",
      "display_name": "Python 3 (ipykernel)",
      "path": "/usr/share/jupyter/kernels/python3"
    }
  },
  "nbformat": 4,
  "nbformat_minor": 5
}