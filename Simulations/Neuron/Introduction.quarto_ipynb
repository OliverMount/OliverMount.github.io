{
 "cells": [
  {
   "cell_type": "markdown",
   "id": "eb7c9516",
   "metadata": {},
   "source": [
    "--- \n",
    "execute:\n",
    "  echo: true\n",
    "  eval: false\n",
    "  python: \"/media/oli/Research/env_python/spy/bin/python\"\n",
    "---\n",
    "\n",
    "\n",
    "\n",
    "# Introduction\n",
    "\n",
    "Recently, NEURON simulator has python interface, with excellent [beginners tutorials](https://nrn.readthedocs.io/en/8.2.6/tutorials/index.html).\n",
    "\n",
    "# [**Ball and stick 1: Basic cell**](https://nrn.readthedocs.io/en/8.2.6/tutorials/ball-and-stick-1.html)\n",
    "\n",
    "Load the necessary modules"
   ]
  },
  {
   "cell_type": "code",
   "execution_count": 1,
   "id": "fc6c72ce",
   "metadata": {},
   "outputs": [],
   "source": [
    "from neuron import h\n",
    "from neuron.units import ms, mV, µm \n",
    "\n",
    "import matplotlib.pyplot as plt   # For plotting using matplotlib\n",
    "\n",
    "  \n",
    "h.load_file(\"stdrun.hoc\") #load the standard run library to give us high-level simulation control functions (e.g. running a simulation for a given period of time):"
   ]
  },
  {
   "cell_type": "markdown",
   "id": "f1fa9c9f",
   "metadata": {},
   "source": [
    "Define one cell with soma and dendrite (with necessary parameters, morphology) using python class"
   ]
  },
  {
   "cell_type": "code",
   "execution_count": 2,
   "id": "c7775db9",
   "metadata": {},
   "outputs": [],
   "source": [
    "class BallAndStick:\n",
    "    def __init__(self, gid):\n",
    "        self._gid = gid\n",
    "        self._setup_morphology()\n",
    "        self._setup_biophysics()\n",
    "\n",
    "    def _setup_morphology(self):\n",
    "        self.soma = h.Section(name=\"soma\", cell=self)\n",
    "        self.dend = h.Section(name=\"dend\", cell=self)\n",
    "        self.dend.connect(self.soma)\n",
    "        self.all = self.soma.wholetree()\n",
    "        self.soma.L = self.soma.diam = 12.6157 * µm\n",
    "        self.dend.L = 200 * µm\n",
    "        self.dend.diam = 1 * µm\n",
    "\n",
    "    def _setup_biophysics(self):\n",
    "        for sec in self.all:\n",
    "            sec.Ra = 100  # Axial resistance in Ohm * cm\n",
    "            sec.cm = 1  # Membrane capacitance in micro Farads / cm^2\n",
    "        self.soma.insert(\"hh\")\n",
    "        for seg in self.soma:\n",
    "            seg.hh.gnabar = 0.12  # Sodium conductance in S/cm2\n",
    "            seg.hh.gkbar = 0.036  # Potassium conductance in S/cm2\n",
    "            seg.hh.gl = 0.0003  # Leak conductance in S/cm2\n",
    "            seg.hh.el = -54.3 * mV  # Reversal potential \n",
    "        self.dend.insert(\"pas\")  # # Insert passive current in the dendrite  \n",
    "        for seg in self.dend:   \n",
    "            seg.pas.g = 0.001  # Passive conductance in S/cm2        \n",
    "            seg.pas.e = -65 * mV  # Leak reversal potential             \n",
    "\n",
    "    def __repr__(self):\n",
    "        return \"BallAndStick[{}]\".format(self._gid)\n",
    "\n",
    "\n",
    "my_cell = BallAndStick(0)"
   ]
  },
  {
   "cell_type": "code",
   "execution_count": 3,
   "id": "5e5b4077",
   "metadata": {},
   "outputs": [],
   "source": [
    "# Make sure soma is hh and dendtrite is passive membrane\n",
    "for sec in h.allsec():\n",
    "    print(\"%s: %s\" % (sec, \", \".join(sec.psection()[\"density_mechs\"].keys())))\n"
   ]
  },
  {
   "cell_type": "markdown",
   "id": "9ed9b605",
   "metadata": {},
   "source": [
    "#### Stimulus"
   ]
  },
  {
   "cell_type": "code",
   "execution_count": 4,
   "id": "2d27400c",
   "metadata": {},
   "outputs": [],
   "source": [
    "stim = h.IClamp(my_cell.dend(1))  # at the origin of the dentrite\n",
    "stim.delay = 5 #ms\n",
    "stim.dur = 1 #ms\n",
    "stim.amp = 0.1  # nA"
   ]
  },
  {
   "cell_type": "markdown",
   "id": "181534cc",
   "metadata": {},
   "source": [
    "#### Recording soma voltage"
   ]
  },
  {
   "cell_type": "code",
   "execution_count": 5,
   "id": "0b3e00cd",
   "metadata": {},
   "outputs": [],
   "source": [
    "soma_v = h.Vector().record(my_cell.soma(0.5)._ref_v)\n",
    "t = h.Vector().record(h._ref_t)"
   ]
  },
  {
   "cell_type": "markdown",
   "id": "4a72ae1a",
   "metadata": {},
   "source": [
    "#### Initialization"
   ]
  },
  {
   "cell_type": "code",
   "execution_count": 6,
   "id": "d62722bb",
   "metadata": {},
   "outputs": [],
   "source": [
    "h.finitialize(-65 * mV) # initialize membrane potential \n",
    "\n",
    "h.continuerun(25 * ms) # run until time 25 ms:\n"
   ]
  },
  {
   "cell_type": "code",
   "execution_count": 7,
   "id": "7a769b50",
   "metadata": {},
   "outputs": [],
   "source": [
    "plt.figure()\n",
    "plt.plot(t, soma_v)\n",
    "plt.xlabel(\"t (ms)\")\n",
    "plt.ylabel(\"v (mV)\")\n",
    "plt.show()"
   ]
  }
 ],
 "metadata": {
  "kernelspec": {
   "display_name": "Python 3 (ipykernel)",
   "language": "python",
   "name": "python3",
   "path": "/media/oli/Research/env_python/spy/share/jupyter/kernels/python3"
  },
  "language_info": {
   "codemirror_mode": {
    "name": "ipython",
    "version": 3
   },
   "file_extension": ".py",
   "mimetype": "text/x-python",
   "name": "python",
   "nbconvert_exporter": "python",
   "pygments_lexer": "ipython3",
   "version": "3.12.3"
  }
 },
 "nbformat": 4,
 "nbformat_minor": 5
}
